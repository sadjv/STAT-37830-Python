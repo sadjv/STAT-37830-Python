{
 "cells": [
  {
   "cell_type": "markdown",
   "metadata": {},
   "source": [
    "# Homework 5\n",
    "\n",
    "In this homework, you'll review some linear algebra, and practice using `sklearn` and `scipy.optimize` to solve several variations of linear models.  You'll also use Pandas and Scikit learn for a simple machine learning task on a UCI data set."
   ]
  },
  {
   "cell_type": "code",
   "execution_count": 1,
   "metadata": {},
   "outputs": [],
   "source": [
    "import numpy as np\n",
    "import matplotlib.pyplot as plt\n",
    "import scipy.linalg as la\n",
    "import pandas as pd\n",
    "import sklearn\n",
    "import time\n",
    "from sklearn.linear_model import LinearRegression\n",
    "from sklearn.linear_model import Ridge\n",
    "from sklearn.metrics import mean_squared_error\n",
    "from sklearn.linear_model import Lasso\n",
    "from sklearn.model_selection import train_test_split\n",
    "from scipy.optimize import minimize"
   ]
  },
  {
   "cell_type": "markdown",
   "metadata": {},
   "source": [
    "## Linear Models\n",
    "\n",
    "A standard problem in statistics to solve the multivariate linear regression problem.\n",
    "\\begin{equation}\n",
    "y = X * \\beta + \\epsilon\n",
    "\\end{equation}\n",
    "The above notation is standard in statistics, but we'll use Householder notation by replacing $\\beta$ with `b`\n",
    "```\n",
    "y = X * b + eps\n",
    "```\n",
    "`X` is known as the [design matrix](https://en.wikipedia.org/wiki/Design_matrix), and consists of `n` rows of observations, each of which has `p` features.  `y` is a vector of `n` responses.  `b` is an unknown vector of `p` coefficients which we would like to find.  `eps` (epsilon) is a vector of length `n` with random noise, typically i.i.d. normally distributed with variance `sig` (sigma).\n",
    "\n",
    "In numpy notation, we could express this as\n",
    "```python\n",
    "y[i] = np.dot(X[i], b) + sig * np.random.randn()\n",
    "```\n",
    "\n",
    "We want to determine `b`, so that when me make a new observation `X[n]` we can predict the response `y[n]`.  Our goal is to minimize the mean square error\n",
    "\n",
    "\\begin{equation}\n",
    "\\mathop{\\mathsf{minimize}}_b \\mathbb{E}((X[n]*b - y[n])^2)\n",
    "\\end{equation}\n",
    "\n",
    "The solution to this is the solution to the least squares problem\n",
    "\\begin{equation}\n",
    "\\mathop{\\mathsf{minimize}}_b \\frac{1}{n} \\|X*b - y\\|_2^2\n",
    "\\end{equation}\n",
    "\n",
    "Where $n$ is the number of rows in $X$.  We'll let the solution to the problem be denoted $\\hat{b}$, or `bhat`."
   ]
  },
  {
   "cell_type": "markdown",
   "metadata": {},
   "source": [
    "## Problem 0 - Linear Regression (30 points)\n",
    "\n",
    "There are a variety of ways to solve the above problem.  We'll assume that $n > p$, meaning there are more observations than features.\n",
    "\n",
    "### Generating Data\n",
    "\n",
    "Write a function `gen_lstsq(n, p, sig=0.1)` which will generate a linear least squares problem (return `X`, `y`, and `b` as described above).  `b` is the \"ground truth\" coefficients that we are looking for.  You can generate the matrix `X` using `np.random.randn`, and generate `b` using `np.random.randn` as well.\n"
   ]
  },
  {
   "cell_type": "code",
   "execution_count": 2,
   "metadata": {},
   "outputs": [],
   "source": [
    "## Your code here\n",
    "def gen_lstsq(n, p, sig=0.1):\n",
    "    \"\"\"\n",
    "    return X, y, b s.t.\n",
    "    \n",
    "    X@b = y\n",
    "    \"\"\"\n",
    "    X = np.random.randn(n,p)\n",
    "    b = np.random.randn(p)\n",
    "    y = np.zeros(n)\n",
    "    for i in range(n):\n",
    "        y[i] = np.dot(X[i,:], b) + sig * np.random.randn()\n",
    "    \n",
    "    return X, y, b"
   ]
  },
  {
   "cell_type": "markdown",
   "metadata": {},
   "source": [
    "### QR factorization\n",
    "\n",
    "If we form a QR factorization $X = QR$, we can find $\\hat{b} = R^{-1} Q^T y$.\n",
    "\n",
    "Write a function `solve_lstsq_qr(X, y)` which estimates `b` using the QR factorization as above."
   ]
  },
  {
   "cell_type": "code",
   "execution_count": 3,
   "metadata": {},
   "outputs": [],
   "source": [
    "## Your code here\n",
    "def solve_lstsq_qr(X, y):\n",
    "    \"\"\"\n",
    "    solve least square problem\n",
    "    \n",
    "    using QR decomposition\n",
    "    \"\"\"\n",
    "    p = X.shape[1]\n",
    "    Q, R = la.qr(X)   \n",
    "    # Assume X has full column rank, then Q[R 0]^T = X, where R \\in R^{p*p} is a square matrix\n",
    "    # Then Rb = Q1^ty, where Q1^ty is the first p entries of Q^ty.\n",
    "    Rdense = R[:p,:]\n",
    "    Qyd = ((Q.T).dot(y))[:p]\n",
    "    bhat = la.solve_triangular(Rdense, Qyd, lower=False)\n",
    "    \n",
    "    return bhat"
   ]
  },
  {
   "cell_type": "markdown",
   "metadata": {},
   "source": [
    "### Normal Equations\n",
    "\n",
    "Often, this is the way statistics textbooks solve the problem: $\\hat{b} = (X^T X)^{-1} X^T y$.  This is based on the normal equation $X^T X \\hat{b} = X^T y$.\n",
    "\n",
    "Write a function `solve_lstsq_normal(X, y)` which estimates `b` using the normal equations above.  You probably don't want to form the inverse - use an LU or Cholesky factorization instead."
   ]
  },
  {
   "cell_type": "code",
   "execution_count": 4,
   "metadata": {},
   "outputs": [],
   "source": [
    "## Your code here\n",
    "def solve_lstsq_normal(X, y):\n",
    "    \"\"\"\n",
    "    solve least square problem\n",
    "    \n",
    "    using normal equation\n",
    "    \"\"\"\n",
    "    Xtemp = X.T@X\n",
    "    P, L, U = la.lu(Xtemp)\n",
    "    ytemp = (X.T).dot(y)\n",
    "    \n",
    "    bhat = la.solve_triangular(\n",
    "            U,\n",
    "            la.solve_triangular(\n",
    "                L,\n",
    "                P.T @ ytemp,\n",
    "                lower=True\n",
    "            ),\n",
    "            lower=False\n",
    "        )\n",
    "    \n",
    "    return bhat"
   ]
  },
  {
   "cell_type": "markdown",
   "metadata": {},
   "source": [
    "### Check Your Work\n",
    "\n",
    "Generate a few random problems to test that `solve_lstsq_qr` and `solve_lstsq_normal` give the same prediction $\\hat{b}$ (measure $\\|\\hat{b}_{qr} - \\hat{b}_{normal}\\|_2$ and check it is smaller than `1e-4`).  Use $n > p$.  Check against `solve_lstsq` in numpy or scipy as well."
   ]
  },
  {
   "cell_type": "code",
   "execution_count": 5,
   "metadata": {},
   "outputs": [
    {
     "name": "stdout",
     "output_type": "stream",
     "text": [
      "the difference between bhat_qr and bhat_normal is smaller than 1e-4: [ True  True  True  True  True  True  True  True  True  True]\n",
      "\n",
      "the difference between bhat_qr and bhat_lstsq is smaller than 1e-4: [ True  True  True  True  True  True  True  True  True  True]\n",
      "\n",
      "the difference between bhat_lstsq and bhat_normal is smaller than 1e-4: [ True  True  True  True  True  True  True  True  True  True]\n"
     ]
    }
   ],
   "source": [
    "## Your code here\n",
    "n = np.linspace(20, 200, 10)\n",
    "p = np.linspace(10, 100, 10)\n",
    "\n",
    "error = np.zeros(10)\n",
    "error1 = np.zeros(10)\n",
    "error2 = np.zeros(10)\n",
    "for i in range(10):\n",
    "    X, y, b = gen_lstsq((i+1)*20, (i+1)*10)\n",
    "    bhN = solve_lstsq_normal(X, y)   # bhat for normal\n",
    "    bhqr = solve_lstsq_qr(X, y)   # bhat for qr\n",
    "    bla= la.lstsq(X, y)[0]   # bhat for LA.solve\n",
    "    error[i] = la.norm(bhN-bhqr)\n",
    "    error1[i] = la.norm(bla-bhqr)\n",
    "    error2[i] = la.norm(bhN-bla)\n",
    "print('the difference between bhat_qr and bhat_normal is smaller than 1e-4:', error<1e-4)\n",
    "print('')\n",
    "print('the difference between bhat_qr and bhat_lstsq is smaller than 1e-4:', error1<1e-4)\n",
    "print('')\n",
    "print('the difference between bhat_lstsq and bhat_normal is smaller than 1e-4:', error2<1e-4)\n"
   ]
  },
  {
   "cell_type": "markdown",
   "metadata": {},
   "source": [
    "### Estimate the Mean Squared Error\n",
    "\n",
    "Write a function `mse` which estimates the mean squared error (MSE) $\\mathbb{E}[\\|X * \\hat{b} - y\\|_2^2]$.\n",
    "\n",
    "The function should have the call signature `mse(b, bhat, N=100, sig=0.1)`  You can generate `X` to be `N x p` using `np.random.randn`, and set `y = X * b + sig * np.random.randn(p)` (use the same value of `sig` that you use when generating the data).  You can then estimate the MSE by computing $\\frac{1}{N}\\|X * \\hat{b} - y\\|_2^2$\n",
    "\n",
    "Create a plot of the MSE vs the noise parameter `sig` (use the same value of `sig` when generating data and computing the MSE).  Put `sig` on a logartihmic axis ranging from `1e-4` to `10`.  Use `n=100`, `p=50` when generating data, and `N=100` when computing the MSE.  Put your plot on log-log axes.  Give it a title and axis labels."
   ]
  },
  {
   "cell_type": "code",
   "execution_count": 6,
   "metadata": {},
   "outputs": [
    {
     "data": {
      "text/plain": [
       "<matplotlib.legend.Legend at 0x1a26170860>"
      ]
     },
     "execution_count": 6,
     "metadata": {},
     "output_type": "execute_result"
    },
    {
     "data": {
      "image/png": "[encoded data removed]",
      "text/plain": [
       "<Figure size 432x288 with 1 Axes>"
      ]
     },
     "metadata": {
      "needs_background": "light"
     },
     "output_type": "display_data"
    }
   ],
   "source": [
    "## Your code here\n",
    "def mse(b, bhat, N=100, sig=0.1):\n",
    "    \"\"\"\n",
    "    compute mse for least square\n",
    "    \"\"\"\n",
    "    p = b.shape[0]\n",
    "    X = np.random.randn(N,p)\n",
    "    y = np.zeros(N)\n",
    "    for i in range(N):\n",
    "        y[i] = np.dot(X[i,:], b) + sig * np.random.randn()\n",
    "    \n",
    "    return (la.norm(X.dot(bhat)-y))**2/N\n",
    "\n",
    "\n",
    "grid = np.logspace(np.log10(1e-4), 1, num=100, endpoint=True, base=10)\n",
    "ng = grid.shape[0]\n",
    "MSE1 = np.zeros(ng)\n",
    "MSE2 = np.zeros(ng)\n",
    "\n",
    "for i in range(ng):\n",
    "    X, y, b = gen_lstsq(100, 50, sig=grid[i])  # generate X, y, b according to sig\n",
    "    bhN = solve_lstsq_normal(X, y)\n",
    "    bhqr = solve_lstsq_qr(X, y)\n",
    "    MSE1[i] = mse(b, bhN, N=100, sig=grid[i])\n",
    "    MSE2[i] = mse(b, bhqr, N=100, sig=grid[i])\n",
    "\n",
    "\n",
    "plt.loglog(grid, MSE2, label='qr')   # loglog plot\n",
    "plt.loglog(grid, MSE1, label='normal')\n",
    "plt.title('MSE for least square using QR decomposition and normal equation')\n",
    "plt.xlabel('sig')\n",
    "plt.ylabel('MSE')\n",
    "plt.legend()"
   ]
  },
  {
   "cell_type": "markdown",
   "metadata": {},
   "source": [
    "### Discussion 1\n",
    "\n",
    "Which of `solve_lstsq_qr` and `solve_lstsq_normal` is faster?  Give a justification for your answer (e.g. in terms of what you know about time to compute matrix multiplication and factorizations)."
   ]
  },
  {
   "cell_type": "code",
   "execution_count": 9,
   "metadata": {},
   "outputs": [
    {
     "data": {
      "text/plain": [
       "<matplotlib.legend.Legend at 0x10e8435c0>"
      ]
     },
     "execution_count": 9,
     "metadata": {},
     "output_type": "execute_result"
    },
    {
     "data": {
      "image/png": "[encoded data removed]",
      "text/plain": [
       "<Figure size 432x288 with 1 Axes>"
      ]
     },
     "metadata": {
      "needs_background": "light"
     },
     "output_type": "display_data"
    }
   ],
   "source": [
    "## Your code here\n",
    "# The time complexity for QR decomposition should be around O(n^3) and LU decomposition should also be O(n^3)\n",
    "# Both of them involving upper or lower triangular solving. Therefore, I believe that speed for both algorithm \n",
    "# should be quite approaching  when n is large. However, the LU decomposition will be faster in practically\n",
    "# By my viewing from wiki. The time complexity for LU should be around 3/4*n^3 and 4/3*n^3 for QR. Therefore,\n",
    "# for n being not too big, normal equation is faster.\n",
    "\n",
    "# test for examples\n",
    "size = np.linspace(100,1000,num=10)\n",
    "t0 = np.zeros(10)\n",
    "t1 = np.zeros(10)\n",
    "for i in range(10):\n",
    "    X, y, b = gen_lstsq(100*(i+1), 100*(i+1))  # generate X, y, b according to sig\n",
    "    \n",
    "    t00 = time.time()\n",
    "    bhN = solve_lstsq_normal(X, y)\n",
    "    t01 = time.time()\n",
    "    t0[i] = t01-t00\n",
    "    \n",
    "    t10 = time.time()\n",
    "    bhqr = solve_lstsq_qr(X, y)\n",
    "    t11 = time.time()\n",
    "    t1[i] = t11-t10 \n",
    "plt.plot(size, t0, label='normal') \n",
    "plt.plot(size, t1, label='qr')\n",
    "plt.legend()"
   ]
  },
  {
   "cell_type": "markdown",
   "metadata": {},
   "source": [
    "---\n",
    "\n",
    "_your discussion here_"
   ]
  },
  {
   "cell_type": "markdown",
   "metadata": {},
   "source": [
    "### Optimization\n",
    "\n",
    "Solve the minimization problem \n",
    "\\begin{equation}\n",
    "\\mathop{\\mathsf{minimize}}_b \\frac{1}{n}\\|X*b - y\\|_2^2\n",
    "\\end{equation}\n",
    "\n",
    "using `scipy.optimize.minimize`.  Wrap this in a function `solve_lstsq_opt(X, y)`.  Note that you can define the objective function inside `solve_lstsq_opt`\n",
    "\n",
    "**Jacobian**: you should implement the Jacobian of the objective function to use in the optimization problem.  Here's a derivation:  We'd like to minimize the objective function\n",
    "\\begin{equation}\n",
    "n f(b) = \\|X*b - y\\|_2^2 = (Xb - y)^T (Xb - y) = b^T X^T X b - 2 y^T X b + y^T y\n",
    "\\end{equation}\n",
    "\n",
    "We might write the above expression as\n",
    "\\begin{equation}\n",
    "n f(b) = \\sum_{i,j} b_i (X^T X)_{i,j} b_j - 2\\sum_{j,i} y_i X_{i,j} b_j + y^T y\n",
    "\\end{equation}\n",
    "\n",
    "We can take a derivative with respect to $b_j$\n",
    "\\begin{equation}\n",
    "n \\frac{\\partial f}{\\partial b_j} = \\sum_{i\\ne j} b_i (X^T X)_{i,j} + \\sum_{i\\ne j} (X^T X)_{j,i} b_i + 2 (X^T X)_{j,j} b_j  - 2\\sum_{i} y_i X_{i,j}\n",
    "\\end{equation}\n",
    "\n",
    "Putting this in matrix form, we obtain\n",
    "\\begin{equation}\n",
    "J_f(b) =  \\frac{1}{n}\\big( b^T (X^T X) + b^T (X^T X)^T - 2y^T X\\big) = \\frac{2}{n} b^T (X^T X) -\\frac{2}{n}y^T X\n",
    "\\end{equation}\n",
    "\n",
    "So we can write $J_f(b) = \\frac{2}{n} b^T (X^T X) -\\frac{2}{n} y^T X$"
   ]
  },
  {
   "cell_type": "code",
   "execution_count": 10,
   "metadata": {},
   "outputs": [],
   "source": [
    "## Your code here\n",
    "def solve_lstsq_opt(X, y):\n",
    "    \"\"\"\n",
    "    solve least square problem\n",
    "    \n",
    "    using optimize.minimize\n",
    "    \"\"\"\n",
    "    p = X.shape[1]\n",
    "    n = X.shape[0]\n",
    "    \n",
    "    def leastsquare(b):\n",
    "        \"\"\"\n",
    "        least square eqn to be minimize\n",
    "        \"\"\"\n",
    "        return (((X.dot(b)).T).dot(X.dot(b))-2*(y.T).dot(X.dot(b))+(y.T).dot(y))/n\n",
    "    \n",
    "    def Jacobi(b):\n",
    "        \"\"\"\n",
    "        derivative of the least square problem\n",
    "        \"\"\"\n",
    "        return (2*(b.T).dot(X.T@X)-2*(y.T).dot(X))/n\n",
    "    \n",
    "    b0 = np.ones(p)\n",
    "    res = minimize(leastsquare, b0, jac= Jacobi)\n",
    "    return res.x"
   ]
  },
  {
   "cell_type": "markdown",
   "metadata": {},
   "source": [
    "#### Check Your Work\n",
    "\n",
    "Generate a few random problems to test that `solve_lstsq_opt` agrees with `solve_lstsq_qr` and `solve_lstsq_normal` in part A.  Use the same tolerance for checking."
   ]
  },
  {
   "cell_type": "code",
   "execution_count": 11,
   "metadata": {},
   "outputs": [
    {
     "name": "stdout",
     "output_type": "stream",
     "text": [
      "error for solve_lstsq_opt agree with solve_lstsq_qr: [ True  True  True  True  True  True  True  True  True  True]\n",
      "\n",
      "error for solve_lstsq_opt agree with solve_lstsq_normal: [ True  True  True  True  True  True  True  True  True  True]\n"
     ]
    }
   ],
   "source": [
    "## Your code here\n",
    "n = np.linspace(20, 200, 10)\n",
    "p = np.linspace(10, 100, 10)\n",
    "\n",
    "error = np.zeros(10)\n",
    "error1 = np.zeros(10)\n",
    "for i in range(10):\n",
    "    X, y, b = gen_lstsq((i+1)*20, (i+1)*10)\n",
    "    bhN = solve_lstsq_normal(X, y)\n",
    "    bhqr = solve_lstsq_qr(X, y)\n",
    "    bhop = solve_lstsq_opt(X, y)\n",
    "    error[i] = la.norm(bhN-bhop)\n",
    "    error[i] = la.norm(bhqr-bhop)\n",
    "print('error for solve_lstsq_opt agree with solve_lstsq_qr:', error1<1e-4)\n",
    "print('')\n",
    "print('error for solve_lstsq_opt agree with solve_lstsq_normal:', error<1e-4)"
   ]
  },
  {
   "cell_type": "markdown",
   "metadata": {},
   "source": [
    "### Discussion 2\n",
    "\n",
    "How fast is `solve_lstsq_opt` compared to the functions you wrote in part A?  Give some justification for what you see."
   ]
  },
  {
   "cell_type": "code",
   "execution_count": 14,
   "metadata": {},
   "outputs": [
    {
     "data": {
      "text/plain": [
       "<matplotlib.legend.Legend at 0x1a230a6c88>"
      ]
     },
     "execution_count": 14,
     "metadata": {},
     "output_type": "execute_result"
    },
    {
     "data": {
      "image/png": "[encoded data removed]",
      "text/plain": [
       "<Figure size 432x288 with 1 Axes>"
      ]
     },
     "metadata": {
      "needs_background": "light"
     },
     "output_type": "display_data"
    }
   ],
   "source": [
    "## Your code here\n",
    "# For my code, the solve_lstsq_opt is much slower. Since we do a lot of matrix multiplication when constructing\n",
    "# f(x) and Jf(x). Also, I am not very sure about the time complexity for optimizing.minimize for solving \n",
    "# the problem. But if it involves matrix multiplication (e.g. fixed point iteration), then I think it should\n",
    "# be at least O(n^3) (or O(n^2.6)). Therefore, solve_lstsq_opt is the slowest.\n",
    "\n",
    "\n",
    "size = np.linspace(50,500,num=10)\n",
    "t0 = np.zeros(10)\n",
    "t1 = np.zeros(10)\n",
    "for i in range(10):\n",
    "    X, y, b = gen_lstsq(50*(i+1), 50*(i+1))  # generate X, y, b according to sig\n",
    "    \n",
    "    t00 = time.time()\n",
    "    bhN = solve_lstsq_normal(X, y)\n",
    "    t01 = time.time()\n",
    "    t0[i] = t01-t00\n",
    "    \n",
    "    t10 = time.time()\n",
    "    bhqr = solve_lstsq_opt(X, y)\n",
    "    t11 = time.time()\n",
    "    t1[i] = t11-t10 \n",
    "plt.plot(size, t0, label='normal') \n",
    "plt.plot(size, t1, label='optimize')\n",
    "plt.legend()"
   ]
  },
  {
   "cell_type": "markdown",
   "metadata": {},
   "source": [
    "---\n",
    "\n",
    "_your discussion - you can add more code/markdown cells_"
   ]
  },
  {
   "cell_type": "markdown",
   "metadata": {},
   "source": [
    "### Scikit Learn\n",
    "\n",
    "Use [`sklearn.linear_model.LinearRegression`](https://scikit-learn.org/stable/modules/generated/sklearn.linear_model.LinearRegression.html#sklearn.linear_model.LinearRegression) to solve the linear regression problem. You can get the vector `bhat` from `model.coef_`\n",
    "\n",
    "Make a plot for the MSE like you did above using `LinearRegression` instead of a `solve_lstsq` function.  Set the keyword `fit_intercept=False`."
   ]
  },
  {
   "cell_type": "code",
   "execution_count": 72,
   "metadata": {},
   "outputs": [
    {
     "data": {
      "text/plain": [
       "<matplotlib.legend.Legend at 0x1a2b0ac1d0>"
      ]
     },
     "execution_count": 72,
     "metadata": {},
     "output_type": "execute_result"
    },
    {
     "data": {
      "image/png": "[encoded data removed]",
      "text/plain": [
       "<Figure size 432x288 with 1 Axes>"
      ]
     },
     "metadata": {
      "needs_background": "light"
     },
     "output_type": "display_data"
    }
   ],
   "source": [
    "grid = np.logspace(np.log10(1e-4), 1, num=100, endpoint=True, base=10)\n",
    "ng = grid.shape[0]\n",
    "MSE3 = np.zeros(ng)\n",
    "\n",
    "\n",
    "for i in range(ng):\n",
    "    X, y, b = gen_lstsq(100, 50, sig=grid[i])\n",
    "    reg = LinearRegression(fit_intercept=False).fit(X, y)   # use sklearn method\n",
    "    bhs = reg.coef_   # get bhat\n",
    "    MSE3[i] = mse(b, bhs, N=100, sig=grid[i])\n",
    "\n",
    "plt.loglog(grid, MSE3, label='sklearn')   # the value of error is too small to be plotted in loglog\n",
    "plt.title('MSE for least square using Sklearn.linear_model.LinearRegression')\n",
    "plt.xlabel('sig')\n",
    "plt.ylabel('MSE')\n",
    "plt.legend()"
   ]
  },
  {
   "cell_type": "markdown",
   "metadata": {},
   "source": [
    "## Problem 1 - Ridge Regression (15 points)\n",
    "\n",
    "We'll now turn to the problem of what to do when `n < p` (there are fewer observations than features).  In this case we can solve $X * b = y$ exactly, but there are many possible values of $b$ which can satisfy the equation.\n",
    "\n",
    "The normal equations are singular, and the $R$ term of the QR factorization is not invertible in this case.  We need to do something else.\n",
    "\n",
    "Ridge regression seeks to solve the following optimization problem:\n",
    "\n",
    "\\begin{equation}\n",
    "\\mathop{\\mathsf{minimize}}_b \\frac{1}{n}\\|X*b - y\\|_2^2 + \\lambda \\|b\\|_2^2\n",
    "\\end{equation}\n",
    "\n",
    "$\\lambda$ is a parameter you can choose to \"regularize\" the problem which you can choose.\n",
    "\n",
    "### Optimization\n",
    "\n",
    "Use `scipy.optimize.minimize` to minimize the above optimization problem.  Wrap this in a function `solve_ridge_opt(X, y, lam=0.1)` (`lam` should be provided as a keyword argument for the variable $\\lambda$).\n",
    "\n",
    "What is the Jacobian for the objective function for the minimization problem?  Incorporate this into your optimization problem.  Hint: differentiation is linear, so you just need to add a term to the Jacobian in Problem 0 based on the Jacobian of\n",
    "\\begin{equation}\n",
    "\\lambda \\|b\\|_2^2 = \\lambda b^T b = \\lambda \\sum_i b_i^2\n",
    "\\end{equation}\n",
    "\n",
    "---\n",
    "\n",
    "_put the expression for the Jacobian here_\n",
    "\n",
    "$J_f(b) = \\frac{2}{n} b^T (X^T X) -\\frac{2}{n} y^T X + 2 \\lambda b^T$"
   ]
  },
  {
   "cell_type": "code",
   "execution_count": 76,
   "metadata": {},
   "outputs": [],
   "source": [
    "## Your code here\n",
    "def solve_ridge_opt(X, y, lam=0.1) :\n",
    "    \"\"\"\n",
    "    solve ridge regression using\n",
    "    \n",
    "    optimize.minimize\n",
    "    \"\"\"\n",
    "    n = X.shape[0]\n",
    "    p = X.shape[1]\n",
    "    \n",
    "    def Ridge(b):\n",
    "        \"\"\"\n",
    "        return the vectorized minimizing function\n",
    "        \n",
    "        in ridge regression\n",
    "        \"\"\"\n",
    "        return (((X.dot(b)).T).dot(X.dot(b))-2*(y.T).dot(X.dot(b))+(y.T).dot(y))/n+lam*(b.T).dot(b)\n",
    "    \n",
    "    def Ridge_der(b):\n",
    "        \"\"\"\n",
    "        return derivative of the ridge function\n",
    "        \"\"\"\n",
    "        return (2*(b.T).dot(X.T@X)-2*(y.T).dot(X))/n+2*lam*b.T\n",
    "    \n",
    "    b0 = np.ones(p)\n",
    "    res = minimize(Ridge, b0, jac= Ridge_der)\n",
    "    return res.x"
   ]
  },
  {
   "cell_type": "markdown",
   "metadata": {},
   "source": [
    "### Compute the MSE\n",
    "\n",
    "Set `n = 50`, `p=100`, and `sig=0.1`.  Make a plot that displays the MSE of `bhat` computed using `solve_ridge_opt` as `lam` varies between `1e-4` and `1e2`.  Use a `semilogx` plot."
   ]
  },
  {
   "cell_type": "code",
   "execution_count": 77,
   "metadata": {},
   "outputs": [
    {
     "data": {
      "text/plain": [
       "<matplotlib.legend.Legend at 0x1a2b358c88>"
      ]
     },
     "execution_count": 77,
     "metadata": {},
     "output_type": "execute_result"
    },
    {
     "data": {
      "image/png": "[encoded data removed]",
      "text/plain": [
       "<Figure size 432x288 with 1 Axes>"
      ]
     },
     "metadata": {
      "needs_background": "light"
     },
     "output_type": "display_data"
    }
   ],
   "source": [
    "grid = np.logspace(np.log10(1e-4), 2, num=100, endpoint=True, base=10)\n",
    "ng = grid.shape[0]\n",
    "MSE = np.zeros(ng)\n",
    "X, y, b = gen_lstsq(50, 100)\n",
    "\n",
    "for i in range(ng):\n",
    "    bhr = solve_ridge_opt(X, y, lam=grid[i])\n",
    "\n",
    "    MSE[i] = mean_squared_error(b, bhr)   # use sklearn method to compute mse\n",
    "\n",
    "\n",
    "plt.semilogx(grid, MSE, label='Ridge')\n",
    "plt.title('MSE for Ridge regression')\n",
    "plt.xlabel('lam')\n",
    "plt.ylabel('MSE')\n",
    "plt.legend()"
   ]
  },
  {
   "cell_type": "markdown",
   "metadata": {},
   "source": [
    "### Scikit Learn\n",
    "\n",
    "Use [`sklearn.linear_model.Ridge`](https://scikit-learn.org/stable/modules/generated/sklearn.linear_model.Ridge.html) to solve the Ridge regression problem (note that this uses the keyword `alpha` where we have used `lam`). You can get the vector `bhat` from `model.coef_`\n",
    "\n",
    "Make a plot for the MSE like you did above using `Ridge` instead of your `solve_ridge_opt` function.  In addition to the keyword `alpha`, set `fit_intercept=False`"
   ]
  },
  {
   "cell_type": "code",
   "execution_count": 78,
   "metadata": {},
   "outputs": [
    {
     "data": {
      "text/plain": [
       "<matplotlib.legend.Legend at 0x1a2b5b9da0>"
      ]
     },
     "execution_count": 78,
     "metadata": {},
     "output_type": "execute_result"
    },
    {
     "data": {
      "image/png": "[encoded data removed]",
      "text/plain": [
       "<Figure size 432x288 with 1 Axes>"
      ]
     },
     "metadata": {
      "needs_background": "light"
     },
     "output_type": "display_data"
    }
   ],
   "source": [
    "## Your code here\n",
    "MSE1 = np.zeros(ng)\n",
    "X, y, b = gen_lstsq(100, 50)\n",
    "\n",
    "for i in range(ng):\n",
    "    res = Ridge(alpha=grid[i], fit_intercept=False).fit(X, y)\n",
    "    bhrs = res.coef_\n",
    "    MSE1[i] = mean_squared_error(b, bhrs)\n",
    "\n",
    "plt.semilogx(grid, MSE1, label='Sklearn')\n",
    "plt.title('MSE for Ridge regression using Sklearn')\n",
    "plt.xlabel('lam')\n",
    "plt.ylabel('MSE')\n",
    "plt.legend()"
   ]
  },
  {
   "cell_type": "markdown",
   "metadata": {},
   "source": [
    "## Problem 2 - Lasso (15 points)\n",
    "\n",
    "The Lasso is L1-regularized regression.  This is often used when `p > n`, and when the parameter vector `b` is assumed to be sparse, meaning that it has few non-zero entries.\n",
    "\n",
    "The minimization problem is\n",
    "\\begin{equation}\n",
    "\\mathop{\\mathsf{minimize}}_b \\frac{1}{n} \\|X * b - y\\|_2^2 + \\lambda \\|b\\|_1\n",
    "\\end{equation}\n",
    "\n",
    "Where again, $\\lambda$ can be chosen."
   ]
  },
  {
   "cell_type": "markdown",
   "metadata": {},
   "source": [
    "### Generate Data\n",
    "\n",
    "We need to modify our generation of data to produce sparse `b`.  Write a function `gen_lstsq_sparse(n, p, sig=0.1, k=10)`, which generates `X` and `y` in the same way as `gen_lstsq`, but now `b` is generated to be a vector of length `p` with `k` random entries set to 1, and all other entries set to 0. Hint: look at `np.random.choice` for generating `k` random integers without replacement."
   ]
  },
  {
   "cell_type": "code",
   "execution_count": 17,
   "metadata": {},
   "outputs": [],
   "source": [
    "## Your code here\n",
    "def gen_lstsq_sparse(n, p, sig=0.1, k=10):\n",
    "    \"\"\"\n",
    "    return X, y, b, where\n",
    "    \n",
    "    b is sparse\n",
    "    \"\"\"\n",
    "    X = np.random.randn(n,p)\n",
    "    b = np.zeros(p)\n",
    "    index = np.random.choice(np.arange(p), k)  # choose k indexes\n",
    "    for i in range(k):\n",
    "        b[index[i]] = 1\n",
    "    y = np.zeros(n)\n",
    "    for i in range(n):\n",
    "        y[i] = np.dot(X[i,:], b) + sig * np.random.randn()\n",
    "    \n",
    "    return X, y, b"
   ]
  },
  {
   "cell_type": "markdown",
   "metadata": {},
   "source": [
    "### Optimization\n",
    "\n",
    "Recall we want to find `bhat` to solve\n",
    "\\begin{equation}\n",
    "\\mathop{\\mathsf{minimize}}_b \\frac{1}{n} \\|X * b - y\\|_2^2 + \\lambda \\|b\\|_1\n",
    "\\end{equation}\n",
    "\n",
    "Use `scipy.optimize.minimize` to minimize the above optimization problem.  Wrap this in a function `solve_lasso_opt(X, y, lam=0.1)` (`lam` should be provided as a keyword argument for the variable $\\lambda$).\n",
    "\n",
    "What is the Jacobian for the objective function for the minimization problem?  Incorporate this into your optimization problem.  Hint: differentiation is linear, so you just need to add a term to the Jacobian in Problem 0 based on the Jacobian of\n",
    "\\begin{equation}\n",
    "\\lambda \\|b\\|_1 = \\lambda \\sum_i |b_i|\n",
    "\\end{equation}\n",
    "\n",
    "If $b_i$ is zero, then take $\\partial_i |b_i| = 0$ (this is in the [subgradient](https://en.wikipedia.org/wiki/Subderivative)). Hint 2: look at `np.sign` for implementation\n",
    "\n",
    "---\n",
    "\n",
    "_put the expression for the Jacobian here_\n",
    "\n",
    "If b_j = 0, then\n",
    "\n",
    "\\begin{equation}\n",
    "\\frac{\\partial f}{\\partial b_j} = \\frac{2\\sum_{i\\ne j} b_i (X^T X)_{i,j} + 2 (X^T X)_{j,j} b_j  - 2\\sum_{i} y_i X_{i,j}}{n}.\n",
    "\\end{equation}\n",
    "\n",
    "In other situation, we have\n",
    "\n",
    "\\begin{equation}\n",
    "\\frac{\\partial f}{\\partial b_j} = \\frac{2\\sum_{i\\ne j} b_i (X^T X)_{i,j} + 2 (X^T X)_{j,j} b_j  - 2\\sum_{i} y_i X_{i,j}}{n} + \\lambda \\frac{b_j}{|b_j|}.\n",
    "\\end{equation}"
   ]
  },
  {
   "cell_type": "code",
   "execution_count": 18,
   "metadata": {},
   "outputs": [],
   "source": [
    "## Your code here\n",
    "def solve_lasso_opt(X, y, lam=0.1):\n",
    "    \"\"\"\n",
    "    solve lasso regression\n",
    "    \n",
    "    return bhat\n",
    "    \"\"\"\n",
    "    n = X.shape[0]\n",
    "    p = X.shape[1]\n",
    "    \n",
    "    def Lasso(b):\n",
    "        \"\"\"\n",
    "        return the minimizing function\n",
    "        \n",
    "        in lasso regression\n",
    "        \"\"\"\n",
    "        return (((X.dot(b)).T).dot(X.dot(b))-2*(y.T).dot(X.dot(b))+(y.T).dot(y))/n+lam*la.norm(b, 1)\n",
    "    \n",
    "    def Lasso_der(b):\n",
    "        \"\"\"\n",
    "        return derivatives of the function\n",
    "        \n",
    "        in lasso regression\n",
    "        \"\"\"\n",
    "        return (2*(b.T).dot(X.T@X)-2*(y.T).dot(X))/n+lam*np.sign(b)\n",
    "    \n",
    "    b0 = np.ones(p)\n",
    "    res = minimize(Lasso, b0, jac= Lasso_der)\n",
    "    return res.x"
   ]
  },
  {
   "cell_type": "markdown",
   "metadata": {},
   "source": [
    "### Compute the MSE\n",
    "\n",
    "Set `n = 50`, `p=100`,`sig=0.1`, and `k=10` to generate a problem using `gen_lstsq_sparse`.  Make a plot that displays the MSE of `bhat` computed using `solve_lasso_opt` as `lam` varies between `1e-4` and `1e2`.  Use a `semilogx` plot."
   ]
  },
  {
   "cell_type": "code",
   "execution_count": 19,
   "metadata": {},
   "outputs": [
    {
     "data": {
      "text/plain": [
       "<matplotlib.legend.Legend at 0x1a23205400>"
      ]
     },
     "execution_count": 19,
     "metadata": {},
     "output_type": "execute_result"
    },
    {
     "data": {
      "image/png": "[encoded data removed]",
      "text/plain": [
       "<Figure size 432x288 with 1 Axes>"
      ]
     },
     "metadata": {
      "needs_background": "light"
     },
     "output_type": "display_data"
    }
   ],
   "source": [
    "## Your code here\n",
    "grid = np.logspace(np.log10(1e-4), 2, num=100, endpoint=True, base=10)\n",
    "ng = grid.shape[0]\n",
    "MSE = np.zeros(ng)\n",
    "X, y, b = gen_lstsq_sparse(50, 100)\n",
    "\n",
    "for i in range(ng):\n",
    "    bhL = solve_lasso_opt(X, y, lam=grid[i])\n",
    "\n",
    "    MSE[i] = mean_squared_error(b, bhL)\n",
    "\n",
    "\n",
    "plt.semilogx(grid, MSE, label='Lasso')\n",
    "plt.title('MSE for Lasso regression')\n",
    "plt.xlabel('lam')\n",
    "plt.ylabel('MSE')\n",
    "plt.legend()"
   ]
  },
  {
   "cell_type": "markdown",
   "metadata": {},
   "source": [
    "### Scikit Learn\n",
    "\n",
    "Use [`sklearn.linear_model.Lasso`](https://scikit-learn.org/stable/modules/generated/sklearn.linear_model.Lasso.html#sklearn.linear_model.Lasso) to solve the Lasso regression problem (note that this uses the keyword `alpha` where we have used `lam`). You can get the vector `bhat` from `model.coef_`\n",
    "\n",
    "Make a plot for the MSE like you did above using `Lasso` instead of your `solve_lasso_opt` function.  In addition to the keyword `alpha`, set `fit_intercept=False`"
   ]
  },
  {
   "cell_type": "code",
   "execution_count": 26,
   "metadata": {},
   "outputs": [
    {
     "name": "stderr",
     "output_type": "stream",
     "text": [
      "/Users/lijinnan/anaconda3/lib/python3.7/site-packages/sklearn/linear_model/coordinate_descent.py:492: ConvergenceWarning: Objective did not converge. You might want to increase the number of iterations. Fitting data with very small alpha may cause precision problems.\n",
      "  ConvergenceWarning)\n",
      "/Users/lijinnan/anaconda3/lib/python3.7/site-packages/sklearn/linear_model/coordinate_descent.py:492: ConvergenceWarning: Objective did not converge. You might want to increase the number of iterations. Fitting data with very small alpha may cause precision problems.\n",
      "  ConvergenceWarning)\n",
      "/Users/lijinnan/anaconda3/lib/python3.7/site-packages/sklearn/linear_model/coordinate_descent.py:492: ConvergenceWarning: Objective did not converge. You might want to increase the number of iterations. Fitting data with very small alpha may cause precision problems.\n",
      "  ConvergenceWarning)\n",
      "/Users/lijinnan/anaconda3/lib/python3.7/site-packages/sklearn/linear_model/coordinate_descent.py:492: ConvergenceWarning: Objective did not converge. You might want to increase the number of iterations. Fitting data with very small alpha may cause precision problems.\n",
      "  ConvergenceWarning)\n",
      "/Users/lijinnan/anaconda3/lib/python3.7/site-packages/sklearn/linear_model/coordinate_descent.py:492: ConvergenceWarning: Objective did not converge. You might want to increase the number of iterations. Fitting data with very small alpha may cause precision problems.\n",
      "  ConvergenceWarning)\n",
      "/Users/lijinnan/anaconda3/lib/python3.7/site-packages/sklearn/linear_model/coordinate_descent.py:492: ConvergenceWarning: Objective did not converge. You might want to increase the number of iterations. Fitting data with very small alpha may cause precision problems.\n",
      "  ConvergenceWarning)\n",
      "/Users/lijinnan/anaconda3/lib/python3.7/site-packages/sklearn/linear_model/coordinate_descent.py:492: ConvergenceWarning: Objective did not converge. You might want to increase the number of iterations. Fitting data with very small alpha may cause precision problems.\n",
      "  ConvergenceWarning)\n",
      "/Users/lijinnan/anaconda3/lib/python3.7/site-packages/sklearn/linear_model/coordinate_descent.py:492: ConvergenceWarning: Objective did not converge. You might want to increase the number of iterations. Fitting data with very small alpha may cause precision problems.\n",
      "  ConvergenceWarning)\n",
      "/Users/lijinnan/anaconda3/lib/python3.7/site-packages/sklearn/linear_model/coordinate_descent.py:492: ConvergenceWarning: Objective did not converge. You might want to increase the number of iterations. Fitting data with very small alpha may cause precision problems.\n",
      "  ConvergenceWarning)\n",
      "/Users/lijinnan/anaconda3/lib/python3.7/site-packages/sklearn/linear_model/coordinate_descent.py:492: ConvergenceWarning: Objective did not converge. You might want to increase the number of iterations. Fitting data with very small alpha may cause precision problems.\n",
      "  ConvergenceWarning)\n",
      "/Users/lijinnan/anaconda3/lib/python3.7/site-packages/sklearn/linear_model/coordinate_descent.py:492: ConvergenceWarning: Objective did not converge. You might want to increase the number of iterations. Fitting data with very small alpha may cause precision problems.\n",
      "  ConvergenceWarning)\n",
      "/Users/lijinnan/anaconda3/lib/python3.7/site-packages/sklearn/linear_model/coordinate_descent.py:492: ConvergenceWarning: Objective did not converge. You might want to increase the number of iterations. Fitting data with very small alpha may cause precision problems.\n",
      "  ConvergenceWarning)\n",
      "/Users/lijinnan/anaconda3/lib/python3.7/site-packages/sklearn/linear_model/coordinate_descent.py:492: ConvergenceWarning: Objective did not converge. You might want to increase the number of iterations. Fitting data with very small alpha may cause precision problems.\n",
      "  ConvergenceWarning)\n",
      "/Users/lijinnan/anaconda3/lib/python3.7/site-packages/sklearn/linear_model/coordinate_descent.py:492: ConvergenceWarning: Objective did not converge. You might want to increase the number of iterations. Fitting data with very small alpha may cause precision problems.\n",
      "  ConvergenceWarning)\n",
      "/Users/lijinnan/anaconda3/lib/python3.7/site-packages/sklearn/linear_model/coordinate_descent.py:492: ConvergenceWarning: Objective did not converge. You might want to increase the number of iterations. Fitting data with very small alpha may cause precision problems.\n",
      "  ConvergenceWarning)\n"
     ]
    },
    {
     "data": {
      "text/plain": [
       "<matplotlib.legend.Legend at 0x10e7b22e8>"
      ]
     },
     "execution_count": 26,
     "metadata": {},
     "output_type": "execute_result"
    },
    {
     "data": {
      "image/png": "[encoded data removed]",
      "text/plain": [
       "<Figure size 432x288 with 1 Axes>"
      ]
     },
     "metadata": {
      "needs_background": "light"
     },
     "output_type": "display_data"
    }
   ],
   "source": [
    "## Your code here\n",
    "grid = np.logspace(np.log10(1e-4), 2, num=100, endpoint=True, base=10)  # guess we need to use large lam (e.g. from 1e-2 to 100)\n",
    "MSE1 = np.zeros(ng)\n",
    "X, y, b = gen_lstsq_sparse(50, 100)\n",
    "\n",
    "for i in range(ng):\n",
    "    res = Lasso(alpha=grid[i], fit_intercept=False).fit(X, y)\n",
    "    bhLs = res.coef_\n",
    "    MSE1[i] = mean_squared_error(b, bhLs)\n",
    "\n",
    "plt.semilogx(grid, MSE1, label='Sklearn')\n",
    "plt.title('MSE for Lasso regression using Sklearn')\n",
    "plt.xlabel('lam')\n",
    "plt.ylabel('MSE')\n",
    "plt.legend()"
   ]
  },
  {
   "cell_type": "markdown",
   "metadata": {},
   "source": [
    "## Problem 3 - Elastic Net (20 points)\n",
    "\n",
    "Another option when `p > n` is the [Elastic Net]() which combines L1 and L2 regularization.\n",
    "\n",
    "\\begin{equation}\n",
    "\\mathop{\\mathsf{minimize}}_b \\frac{1}{n} \\|X * b - y\\|_2^2 + \\lambda_1 \\|b\\|_1 + \\lambda_2 \\|b\\|_2^2\n",
    "\\end{equation}\n",
    "Where we get to choose $\\lambda_1$ and $\\lambda_2$.\n",
    "\n",
    "You can find a function that does this in [`sklearn.linear_model.ElasticNet`](https://scikit-learn.org/stable/modules/generated/sklearn.linear_model.ElasticNet.html#sklearn.linear_model.ElasticNet).\n",
    "\n",
    "In this problem, you'll write a class that emulates the behavior of a Scikit learn class. Use `scipy.optimize.minimize` to solve the optimization problem.\n"
   ]
  },
  {
   "cell_type": "markdown",
   "metadata": {},
   "source": [
    "### Jacobian\n",
    "\n",
    "Give an expression for the Jacobian for the optimization objective function.  You've already done all the hard work for this in problems 1 and 2\n",
    "\n",
    "---\n",
    "\n",
    "_put the Jacobian expression here_\n",
    "\n",
    "If b_j = 0, then\n",
    "\n",
    "\\begin{equation}\n",
    "\\frac{\\partial f}{\\partial b_j} = \\frac{2\\sum_{i\\ne j} b_i (X^T X)_{i,j} + 2 (X^T X)_{j,j} b_j  - 2\\sum_{i} y_i X_{i,j}}{n} + 2 \\lambda b_j.\n",
    "\\end{equation}\n",
    "\n",
    "In other situation, we have\n",
    "\n",
    "\\begin{equation}\n",
    "\\frac{\\partial f}{\\partial b_j} = \\frac{2\\sum_{i\\ne j} b_i (X^T X)_{i,j} + 2 (X^T X)_{j,j} b_j  - 2\\sum_{i} y_i X_{i,j}}{n} + \\lambda \\frac{b_j}{|b_j|} + 2 \\lambda b_j.\n",
    "\\end{equation}"
   ]
  },
  {
   "cell_type": "markdown",
   "metadata": {},
   "source": [
    "### Write the Class\n",
    "\n",
    "Define a Python Class `ElasticNet`.  When you initialize the class you should be able to provide keyword arguments `lam1` for $\\lambda_1$ and `lam2` for $\\lambda_2$.  Give each these keyword arguments a default value of `0.5`.\n",
    "\n",
    "In addition to `__init__`, your class should provide two methods:\n",
    "1. `fit(X, y)` - sets an attribute `bhat` which solves the optimization problem (use the parameters `lam1` and `lam2` provided in initialization).  Use `scipy.optimize.minimize`\n",
    "2. `predict(X)` - predict values of `y` as `X @ bhat`"
   ]
  },
  {
   "cell_type": "code",
   "execution_count": 29,
   "metadata": {},
   "outputs": [],
   "source": [
    "## Your code here\n",
    "\n",
    "class ElasticNet(object):\n",
    "    \n",
    "    def __init__(self, lam1=0.5, lam2=0.5):\n",
    "        self.lam1 = lam1\n",
    "        self.lam2 = lam2\n",
    "        self.bhat = np.array([])\n",
    "        \n",
    "    def fit(self, X, y):\n",
    "        \"\"\"\n",
    "        solve the elastic net problem\n",
    "        \n",
    "        and assign attribute bhat\n",
    "        \"\"\"\n",
    "        n = X.shape[0]\n",
    "        p = X.shape[1]\n",
    "        def Elastic(b):\n",
    "            \"\"\"\n",
    "            return the minimizing objective function\n",
    "            \n",
    "            in elastic net regression\n",
    "            \"\"\"\n",
    "            return (((X.dot(b)).T).dot(X.dot(b))-2*(y.T).dot(X.dot(b))+(y.T).dot(y))/n+self.lam1*la.norm(b, 1)+self.lam2*(b.T).dot(b)\n",
    "    \n",
    "        def Elastic_der(b):\n",
    "            \"\"\"\n",
    "            derivative of the function\n",
    "            \n",
    "            in elastic net regression\n",
    "            \"\"\"\n",
    "            return (2*(b.T).dot(X.T@X)-2*(y.T).dot(X))/n+self.lam1*np.sign(b)+2*self.lam2*b.T\n",
    "        \n",
    "        b0 = np.ones(p)\n",
    "        res = minimize(Elastic, b0, jac= Elastic_der)\n",
    "        self.bhat = res.x\n",
    "        return self\n",
    "    \n",
    "    def predict(self, X):\n",
    "        \"\"\"\n",
    "        predict y by y = X@bhat\n",
    "        \"\"\"\n",
    "        return X.dot(self.bhat)"
   ]
  },
  {
   "cell_type": "markdown",
   "metadata": {},
   "source": [
    "### Compute the MSE\n",
    "\n",
    "Set `n=50`, `p=100`,`sig=0.1`, and `k=10` to generate a problem using `gen_lstsq_sparse`.  \n",
    "\n",
    "Set `n=50`, `p=100`, and `sig=0.1` to generate a problem using `gen_lstsq`.\n",
    "\n",
    "Make a plot that displays the MSE of the model computed using your `ElasticNet` class using `lam1=lam2` varying between `1e-4` and `1e2` for each of the generated problems (your plot should have 2 lines).  Give your plot a title, axis labels, and a legend."
   ]
  },
  {
   "cell_type": "code",
   "execution_count": 31,
   "metadata": {},
   "outputs": [
    {
     "data": {
      "text/plain": [
       "<matplotlib.legend.Legend at 0x1a28487a90>"
      ]
     },
     "execution_count": 31,
     "metadata": {},
     "output_type": "execute_result"
    },
    {
     "data": {
      "image/png": "[encoded data removed]",
      "text/plain": [
       "<Figure size 432x288 with 1 Axes>"
      ]
     },
     "metadata": {
      "needs_background": "light"
     },
     "output_type": "display_data"
    }
   ],
   "source": [
    "grid = np.logspace(np.log10(1e-4), 2, num=100, endpoint=True, base=10)\n",
    "ng = grid.shape[0]\n",
    "MSE1 = np.zeros(ng)\n",
    "MSE2 = np.zeros(ng)\n",
    "\n",
    "X1, y1, b1 = gen_lstsq_sparse(50, 100)\n",
    "X2, y2, b2 = gen_lstsq(50, 100)\n",
    "\n",
    "for i in range(ng):\n",
    "    Elastic1 = ElasticNet(grid[i], grid[i])\n",
    "    Elastic2 = ElasticNet(grid[i], grid[i])\n",
    "    Elastic1.fit(X1, y1)\n",
    "    Elastic2.fit(X2, y2)\n",
    "    \n",
    "    MSE1[i] = mean_squared_error(b1, Elastic1.bhat)\n",
    "    MSE2[i] = mean_squared_error(b2, Elastic2.bhat)\n",
    "\n",
    "\n",
    "plt.semilogx(grid, MSE1, label='sparse')\n",
    "plt.semilogx(grid, MSE2, label='dense')\n",
    "plt.title('MSE for Elastic Net')\n",
    "plt.xlabel('lam1=lam2')\n",
    "plt.ylabel('MSE')\n",
    "plt.legend()"
   ]
  },
  {
   "cell_type": "markdown",
   "metadata": {},
   "source": [
    "## Problem 4 - Real Data (20 points)\n",
    "\n",
    "In this problem you'll use the [Wine Quality Data Set](https://archive.ics.uci.edu/ml/machine-learning-databases/wine-quality/).  We'll focus on the red wines found in [`winequality-red.csv`](https://archive.ics.uci.edu/ml/machine-learning-databases/wine-quality/winequality-red.csv).  The goal is to train a machine learning model that will predict the wine quality from a variety of other features."
   ]
  },
  {
   "cell_type": "markdown",
   "metadata": {},
   "source": [
    "### Load the data set\n",
    "\n",
    "Load the wines in `windquality-red.csv` into a Pandas data frame. Note that this file has column labels, which are interpreted in the data set documentation:\n",
    "\n",
    "Input variables (based on physicochemical tests):\n",
    "1. fixed acidity\n",
    "2. volatile acidity\n",
    "3. citric acid\n",
    "4. residual sugar\n",
    "5. chlorides\n",
    "6. free sulfur dioxide\n",
    "7. total sulfur dioxide\n",
    "8. density\n",
    "9. pH\n",
    "10. sulphates\n",
    "11. alcohol\n",
    "\n",
    "Output variable (based on sensory data):\n",
    "\n",
    "12. quality (score between 0 and 10)\n",
    "\n",
    "Note that this file uses semi-colons `;` to delimit values.  You can use `delimiter=';'` as a keyword argument."
   ]
  },
  {
   "cell_type": "code",
   "execution_count": 106,
   "metadata": {},
   "outputs": [],
   "source": [
    "## Your code here\n",
    "red = pd.read_csv('winequality-red.csv', delimiter=';')\n",
    "y = red['quality']\n",
    "X = red.iloc[:, :11]"
   ]
  },
  {
   "cell_type": "markdown",
   "metadata": {},
   "source": [
    "The first 11 columns will be features for the model (used in the design matrix `X`), and the last column (quality) is the quantity we're tyring to predict (the response `y`).\n",
    "\n",
    "### Split the Data in to Training and Testing Sets\n",
    "\n",
    "Split the data `X, y` into `X_train, y_train, X_test, y_test` using `sklearn`.  Use 70% of the data for training, and 30% of the data for testing.\n"
   ]
  },
  {
   "cell_type": "code",
   "execution_count": 114,
   "metadata": {},
   "outputs": [
    {
     "data": {
      "text/plain": [
       "7"
      ]
     },
     "execution_count": 114,
     "metadata": {},
     "output_type": "execute_result"
    }
   ],
   "source": [
    "## Your code here\n",
    "X_train, X_test, y_train, y_test = train_test_split(X, y, test_size=0.3)"
   ]
  },
  {
   "cell_type": "markdown",
   "metadata": {},
   "source": [
    "### Train a Model and Measure Error\n",
    "\n",
    "Use [`sklearn.linear_model.LinearRegression`](https://scikit-learn.org/stable/modules/generated/sklearn.linear_model.LinearRegression.html#sklearn.linear_model.LinearRegression) to fit a linear regression model to your training data.\n",
    "\n",
    "Use [`sklearn.metrics.mean_squared_error`](https://scikit-learn.org/stable/modules/generated/sklearn.metrics.mean_squared_error.html#sklearn.metrics.mean_squared_error) to compute the MSE on your test set."
   ]
  },
  {
   "cell_type": "code",
   "execution_count": 116,
   "metadata": {},
   "outputs": [
    {
     "name": "stdout",
     "output_type": "stream",
     "text": [
      "0.43524249329098386\n"
     ]
    }
   ],
   "source": [
    "## Your code here\n",
    "reg = LinearRegression(fit_intercept=False).fit(X_train, y_train)\n",
    "yhat = reg.predict(X_test)\n",
    "MSE = mean_squared_error(y_test, yhat)\n",
    "print(MSE)"
   ]
  },
  {
   "cell_type": "code",
   "execution_count": null,
   "metadata": {},
   "outputs": [],
   "source": []
  }
 ],
 "metadata": {
  "kernelspec": {
   "display_name": "Python 3",
   "language": "python",
   "name": "python3"
  },
  "language_info": {
   "codemirror_mode": {
    "name": "ipython",
    "version": 3
   },
   "file_extension": ".py",
   "mimetype": "text/x-python",
   "name": "python",
   "nbconvert_exporter": "python",
   "pygments_lexer": "ipython3",
   "version": "3.7.3"
  }
 },
 "nbformat": 4,
 "nbformat_minor": 4
}
